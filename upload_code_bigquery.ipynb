{
 "cells": [
  {
   "cell_type": "markdown",
   "metadata": {},
   "source": [
    "# Código de Importación a BigQuery:"
   ]
  },
  {
   "cell_type": "markdown",
   "metadata": {},
   "source": [
    "## Primer paso: Crear Token de importación en BigQuery y Kaggle\n",
    "\n"
   ]
  },
  {
   "cell_type": "markdown",
   "metadata": {},
   "source": [
    "## Segundo paso: Importación de librerías y base de datos"
   ]
  },
  {
   "cell_type": "code",
   "execution_count": 2,
   "metadata": {},
   "outputs": [],
   "source": [
    "import pandas as pd\n",
    "import numpy as np\n",
    "import matplotlib.pyplot as plt\n",
    "import kaggle\n",
    "import os\n",
    "from kaggle.api.kaggle_api_extended import KaggleApi"
   ]
  },
  {
   "cell_type": "code",
   "execution_count": null,
   "metadata": {},
   "outputs": [],
   "source": [
    "def importacion_kaggle(url_dataset):\n",
    "    \n",
    "    # Asegurar que el archivo kaggle.json existe\n",
    "    \n",
    "    kaggle_json_path = 'C:\\\\Users\\\\diego\\\\.kaggle\\\\kaggle.json'\n",
    "    if not os.path.exists(kaggle_json_path):\n",
    "        raise FileNotFoundError(f\"No se encuentra el archivo: {kaggle_json_path}\")\n",
    "    os.chmod(kaggle_json_path, 0o600)\n",
    "    \n",
    "    # Configurar la API de Kaggle para que use el archivo kaggle.json\n",
    "    \n",
    "    os.environ['KAGGLE_CONFIG_DIR'] = 'C:\\\\Users\\\\diego\\\\.kaggle'\n",
    "\n",
    "    # Iniciar API de Kaggle, utilizando el archivo json que descargué y está en la carpeta de .kaggle\n",
    "    api = KaggleApi()\n",
    "    api.authenticate()\n",
    "    \n",
    "    # Dataset url\n",
    "    dataset_url = str(url_dataset)\n",
    "    api.dataset_download_files(dataset_url, path='.', unzip=True)\n",
    "    print(\"Descarga completada.\")\n",
    "    "
   ]
  },
  {
   "cell_type": "code",
   "execution_count": 6,
   "metadata": {},
   "outputs": [],
   "source": [
    "# Asegurar que el archivo kaggle.json existe\n",
    "kaggle_json_path = 'C:\\\\Users\\\\diego\\\\.kaggle\\\\kaggle.json'\n",
    "if not os.path.exists(kaggle_json_path):\n",
    "    raise FileNotFoundError(f\"No se encuentra el archivo: {kaggle_json_path}\")\n",
    "os.chmod(kaggle_json_path, 0o600)\n",
    "# Configurar la API de Kaggle para que use el archivo kaggle.json\n",
    "os.environ['KAGGLE_CONFIG_DIR'] = 'C:\\\\Users\\\\diego\\\\.kaggle'\n",
    "\n",
    "# Iniciar API de Kaggle, utilizando el archivo json que descargué y está en la carpeta de .kaggle\n",
    "api = KaggleApi()\n",
    "api.authenticate()\n",
    "\n"
   ]
  },
  {
   "cell_type": "code",
   "execution_count": 7,
   "metadata": {},
   "outputs": [
    {
     "name": "stdout",
     "output_type": "stream",
     "text": [
      "Dataset URL: https://www.kaggle.com/datasets/jackdaoud/marketing-data\n"
     ]
    }
   ],
   "source": [
    "#dataset url\n",
    "dataset_url = 'jackdaoud/marketing-data'\n",
    "api.dataset_download_files(dataset_url, path='.', unzip=True)\n",
    "print(\"Descarga completada.\")"
   ]
  },
  {
   "cell_type": "code",
   "execution_count": null,
   "metadata": {},
   "outputs": [],
   "source": []
  }
 ],
 "metadata": {
  "kernelspec": {
   "display_name": "Python 3",
   "language": "python",
   "name": "python3"
  },
  "language_info": {
   "codemirror_mode": {
    "name": "ipython",
    "version": 3
   },
   "file_extension": ".py",
   "mimetype": "text/x-python",
   "name": "python",
   "nbconvert_exporter": "python",
   "pygments_lexer": "ipython3",
   "version": "3.12.3"
  }
 },
 "nbformat": 4,
 "nbformat_minor": 2
}
